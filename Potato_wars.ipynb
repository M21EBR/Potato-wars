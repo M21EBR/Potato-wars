{
  "cells": [
    {
      "cell_type": "markdown",
      "metadata": {
        "id": "view-in-github",
        "colab_type": "text"
      },
      "source": [
        "<a href=\"https://colab.research.google.com/github/M21EBR/Potato-wars/blob/main/Potato_wars.ipynb\" target=\"_parent\"><img src=\"https://colab.research.google.com/assets/colab-badge.svg\" alt=\"Open In Colab\"/></a>"
      ]
    },
    {
      "cell_type": "code",
      "execution_count": null,
      "id": "c1518497",
      "metadata": {
        "id": "c1518497"
      },
      "outputs": [],
      "source": [
        "import tensorflow as tf\n",
        "from tensorflow.keras import models,layers\n",
        "import matplotlib.pyplot as plt"
      ]
    },
    {
      "cell_type": "code",
      "source": [
        "from google.colab import drive\n",
        "drive.mount('/content/drive')"
      ],
      "metadata": {
        "colab": {
          "base_uri": "https://localhost:8080/"
        },
        "id": "Is6VBfLAq_dA",
        "outputId": "4604173d-bffa-4fba-d78d-fd43ef09e173"
      },
      "id": "Is6VBfLAq_dA",
      "execution_count": null,
      "outputs": [
        {
          "output_type": "stream",
          "name": "stdout",
          "text": [
            "Mounted at /content/drive\n"
          ]
        }
      ]
    },
    {
      "cell_type": "code",
      "execution_count": null,
      "id": "de7afb33",
      "metadata": {
        "id": "de7afb33"
      },
      "outputs": [],
      "source": [
        "BATCH_SIZE = 32\n",
        "IMAGE_SIZE = 256\n",
        "CHANNELS=3\n",
        "EPOCHS=50"
      ]
    },
    {
      "cell_type": "code",
      "execution_count": null,
      "id": "5c2ca4aa",
      "metadata": {
        "colab": {
          "base_uri": "https://localhost:8080/"
        },
        "id": "5c2ca4aa",
        "outputId": "fed31408-e921-4611-ee46-8dd32bee3bae"
      },
      "outputs": [
        {
          "output_type": "stream",
          "name": "stdout",
          "text": [
            "Found 2152 files belonging to 3 classes.\n"
          ]
        }
      ],
      "source": [
        "dataset=tf.keras.preprocessing.image_dataset_from_directory(\n",
        "    \"/content/drive/MyDrive/Colab Notebooks/PlantVillage\",\n",
        "    shuffle=True,\n",
        "    image_size=(256,256),\n",
        "    batch_size = 32\n",
        ")"
      ]
    },
    {
      "cell_type": "code",
      "execution_count": null,
      "id": "59cdce73",
      "metadata": {
        "id": "59cdce73",
        "colab": {
          "base_uri": "https://localhost:8080/"
        },
        "outputId": "2dadbdbe-b239-42e0-dcbc-4e028fb80cc8"
      },
      "outputs": [
        {
          "output_type": "execute_result",
          "data": {
            "text/plain": [
              "['Potato___Early_blight', 'Potato___Late_blight', 'Potato___healthy']"
            ]
          },
          "metadata": {},
          "execution_count": 6
        }
      ],
      "source": [
        "class_name  = dataset.class_names\n",
        "class_name"
      ]
    },
    {
      "cell_type": "code",
      "execution_count": null,
      "id": "5978e3d7",
      "metadata": {
        "id": "5978e3d7"
      },
      "outputs": [],
      "source": [
        "def gfun(ds,train_split=0.8,val_split=0.1,test_split=0.1,shuffle = True,shuffle_size=10000):\n",
        "    ds_size = len(ds)\n",
        "    if shuffle:\n",
        "        ds = ds.shuffle(shuffle_size,seed=12)\n",
        "\n",
        "    train_size = int(train_split*ds_size)\n",
        "    val_size = int(val_split*ds_size)\n",
        "\n",
        "    train_ds = ds.take(train_size)\n",
        "\n",
        "    #once u skip u get the rest 20% data\n",
        "    val_ds  = ds.skip(train_size).take(val_size)#in remaining 20% u will again take val size\n",
        "    test_ds  = ds.skip(train_size).skip(val_size)\n",
        "    return train_ds,val_ds,test_ds\n"
      ]
    },
    {
      "cell_type": "code",
      "execution_count": null,
      "id": "c368595e",
      "metadata": {
        "id": "c368595e"
      },
      "outputs": [],
      "source": [
        "train_ds,val_ds,test_ds = gfun(dataset)"
      ]
    },
    {
      "cell_type": "markdown",
      "id": "d9a93682",
      "metadata": {
        "id": "d9a93682"
      },
      "source": [
        "prefecth helps in cpu and gpu loading, and by using chache u dont need to read hte same image again"
      ]
    },
    {
      "cell_type": "code",
      "execution_count": null,
      "id": "e4a9fb85",
      "metadata": {
        "id": "e4a9fb85"
      },
      "outputs": [],
      "source": [
        "tarin_ds =train_ds.cache().shuffle(1000).prefetch(buffer_size = tf.data.AUTOTUNE)\n",
        "val_ds=val_ds.cache().shuffle(1000).prefetch(buffer_size = tf.data.AUTOTUNE)\n",
        "test_ds=test_ds.cache().shuffle(1000).prefetch(buffer_size = tf.data.AUTOTUNE)"
      ]
    },
    {
      "cell_type": "markdown",
      "id": "2337d32a",
      "metadata": {
        "id": "2337d32a"
      },
      "source": [
        "this block feature is the model is trained on 255 x 255 but while predicting if image of other dimension is given this will automatically resize it"
      ]
    },
    {
      "cell_type": "code",
      "execution_count": null,
      "id": "acf7a939",
      "metadata": {
        "id": "acf7a939"
      },
      "outputs": [],
      "source": [
        "data_augmentation = tf.keras.Sequential([\n",
        "    layers.experimental.preprocessing.RandomFlip(\"horizontal_and_vertical\"),\n",
        "    layers.experimental.preprocessing.RandomRotation(0.2),\n",
        "])"
      ]
    },
    {
      "cell_type": "code",
      "execution_count": null,
      "id": "a9d4cdc6",
      "metadata": {
        "id": "a9d4cdc6"
      },
      "outputs": [],
      "source": [
        "resize_and_rescale = tf.keras.Sequential([\n",
        "     layers.experimental.preprocessing.Resizing(256,256),\n",
        "     layers.experimental.preprocessing.Rescaling(1.0/255)\n",
        "])\n",
        "\n"
      ]
    },
    {
      "cell_type": "markdown",
      "id": "c92ce9cb",
      "metadata": {
        "id": "c92ce9cb"
      },
      "source": [
        "till here we were doing preprocessing that is we were resizing , scaling , shuffing and even spliting but from now we will be working on CNN building"
      ]
    },
    {
      "cell_type": "code",
      "execution_count": null,
      "id": "a07ebec6",
      "metadata": {
        "id": "a07ebec6"
      },
      "outputs": [],
      "source": [
        "#first layer is resize and rescale\n",
        "image_shape = (BATCH_SIZE, IMAGE_SIZE, IMAGE_SIZE, CHANNELS)\n",
        "n_classes = 3\n",
        "model = models.Sequential([\n",
        "    resize_and_rescale,\n",
        "    data_augmentation,#this means creating four diffrent sample of the same image by rotating and zomming etc.and training the model on those\n",
        "    layers.Conv2D(32,(3,3),activation='relu',input_shape = (256,256)),#filter layers, we got 32 by trail and error, ecah layer can detect some features like eyes nose ears etc.. and (3,3)is the size of the filter\n",
        "    layers.MaxPooling2D((2,2)),\n",
        "    layers.Conv2D(64,(3,3),activation='relu',input_shape = (256,256)),\n",
        "    layers.MaxPooling2D((2,2)),\n",
        "    layers.Conv2D(64,(3,3),activation='relu',input_shape = (256,256)),\n",
        "    layers.MaxPooling2D((2,2)),\n",
        "    layers.Conv2D(64,(3,3),activation='relu',input_shape = (256,256)),\n",
        "    layers.MaxPooling2D((2,2)),\n",
        "    layers.Conv2D(64,(3,3),activation='relu',input_shape = (256,256)),\n",
        "    layers.MaxPooling2D((2,2)),\n",
        "    layers.Conv2D(64,(3,3),activation='relu',input_shape = (256,256)),\n",
        "    layers.MaxPooling2D((2,2)),#this called pooling , here we are using max pooling where we take max of the filter layer result, this is for preserving the feature and reducing the value which can be very help full computuional wise\n",
        "    #we got this many layer by trail and error\n",
        "    #now we need to flatten it , so data is array of neuron\n",
        "    layers.Flatten(),\n",
        "    layers.Dense(64,activation='relu'),\n",
        "    layers.Dense(n_classes,activation='softmax'),\n",
        "    #softmax is for normalizing probablity of the class\n",
        "])\n",
        "model.build(input_shape=image_shape)"
      ]
    },
    {
      "cell_type": "code",
      "execution_count": null,
      "id": "362e32ba",
      "metadata": {
        "id": "362e32ba",
        "colab": {
          "base_uri": "https://localhost:8080/"
        },
        "outputId": "0f4832f6-ce88-4eea-fd5d-c4ff9a7bb1db"
      },
      "outputs": [
        {
          "output_type": "stream",
          "name": "stdout",
          "text": [
            "Model: \"sequential_2\"\n",
            "_________________________________________________________________\n",
            " Layer (type)                Output Shape              Param #   \n",
            "=================================================================\n",
            " sequential_1 (Sequential)   (32, 256, 256, 3)         0         \n",
            "                                                                 \n",
            " sequential (Sequential)     (32, 256, 256, 3)         0         \n",
            "                                                                 \n",
            " conv2d (Conv2D)             (32, 254, 254, 32)        896       \n",
            "                                                                 \n",
            " max_pooling2d (MaxPooling2  (32, 127, 127, 32)        0         \n",
            " D)                                                              \n",
            "                                                                 \n",
            " conv2d_1 (Conv2D)           (32, 125, 125, 64)        18496     \n",
            "                                                                 \n",
            " max_pooling2d_1 (MaxPoolin  (32, 62, 62, 64)          0         \n",
            " g2D)                                                            \n",
            "                                                                 \n",
            " conv2d_2 (Conv2D)           (32, 60, 60, 64)          36928     \n",
            "                                                                 \n",
            " max_pooling2d_2 (MaxPoolin  (32, 30, 30, 64)          0         \n",
            " g2D)                                                            \n",
            "                                                                 \n",
            " conv2d_3 (Conv2D)           (32, 28, 28, 64)          36928     \n",
            "                                                                 \n",
            " max_pooling2d_3 (MaxPoolin  (32, 14, 14, 64)          0         \n",
            " g2D)                                                            \n",
            "                                                                 \n",
            " conv2d_4 (Conv2D)           (32, 12, 12, 64)          36928     \n",
            "                                                                 \n",
            " max_pooling2d_4 (MaxPoolin  (32, 6, 6, 64)            0         \n",
            " g2D)                                                            \n",
            "                                                                 \n",
            " conv2d_5 (Conv2D)           (32, 4, 4, 64)            36928     \n",
            "                                                                 \n",
            " max_pooling2d_5 (MaxPoolin  (32, 2, 2, 64)            0         \n",
            " g2D)                                                            \n",
            "                                                                 \n",
            " flatten (Flatten)           (32, 256)                 0         \n",
            "                                                                 \n",
            " dense (Dense)               (32, 64)                  16448     \n",
            "                                                                 \n",
            " dense_1 (Dense)             (32, 3)                   195       \n",
            "                                                                 \n",
            "=================================================================\n",
            "Total params: 183747 (717.76 KB)\n",
            "Trainable params: 183747 (717.76 KB)\n",
            "Non-trainable params: 0 (0.00 Byte)\n",
            "_________________________________________________________________\n"
          ]
        }
      ],
      "source": [
        "model.summary()"
      ]
    },
    {
      "cell_type": "code",
      "execution_count": null,
      "id": "9b2da0ba",
      "metadata": {
        "id": "9b2da0ba"
      },
      "outputs": [],
      "source": [
        "model.compile(\n",
        "    optimizer = 'adam',\n",
        "    loss=tf.keras.losses.SparseCategoricalCrossentropy(from_logits=False),\n",
        "    metrics = ['accuracy']\n",
        ")"
      ]
    },
    {
      "cell_type": "code",
      "execution_count": null,
      "id": "3587c58e",
      "metadata": {
        "id": "3587c58e",
        "colab": {
          "base_uri": "https://localhost:8080/"
        },
        "outputId": "af2b60c9-27a1-4728-f355-2377e2706407"
      },
      "outputs": [
        {
          "output_type": "stream",
          "name": "stdout",
          "text": [
            "Epoch 1/50\n",
            "54/54 [==============================] - 471s 227ms/step - loss: 0.9202 - accuracy: 0.4660 - val_loss: 0.9200 - val_accuracy: 0.4323\n",
            "Epoch 2/50\n",
            "54/54 [==============================] - 10s 69ms/step - loss: 0.8204 - accuracy: 0.5516 - val_loss: 0.7400 - val_accuracy: 0.6615\n",
            "Epoch 3/50\n",
            "54/54 [==============================] - 10s 64ms/step - loss: 0.6318 - accuracy: 0.7224 - val_loss: 0.5437 - val_accuracy: 0.7240\n",
            "Epoch 4/50\n",
            "54/54 [==============================] - 11s 65ms/step - loss: 0.4558 - accuracy: 0.7980 - val_loss: 0.3385 - val_accuracy: 0.8542\n",
            "Epoch 5/50\n",
            "54/54 [==============================] - 10s 70ms/step - loss: 0.3556 - accuracy: 0.8582 - val_loss: 0.2875 - val_accuracy: 0.8802\n",
            "Epoch 6/50\n",
            "54/54 [==============================] - 10s 64ms/step - loss: 0.3038 - accuracy: 0.8721 - val_loss: 0.2756 - val_accuracy: 0.9271\n",
            "Epoch 7/50\n",
            "54/54 [==============================] - 11s 64ms/step - loss: 0.3092 - accuracy: 0.8744 - val_loss: 0.2597 - val_accuracy: 0.8802\n",
            "Epoch 8/50\n",
            "54/54 [==============================] - 11s 64ms/step - loss: 0.2172 - accuracy: 0.9061 - val_loss: 0.2456 - val_accuracy: 0.8854\n",
            "Epoch 9/50\n",
            "54/54 [==============================] - 10s 67ms/step - loss: 0.2346 - accuracy: 0.9079 - val_loss: 0.1799 - val_accuracy: 0.9323\n",
            "Epoch 10/50\n",
            "54/54 [==============================] - 10s 63ms/step - loss: 0.1948 - accuracy: 0.9167 - val_loss: 0.1046 - val_accuracy: 0.9427\n",
            "Epoch 11/50\n",
            "54/54 [==============================] - 11s 63ms/step - loss: 0.1759 - accuracy: 0.9349 - val_loss: 0.2666 - val_accuracy: 0.8958\n",
            "Epoch 12/50\n",
            "54/54 [==============================] - 9s 65ms/step - loss: 0.1839 - accuracy: 0.9272 - val_loss: 0.3099 - val_accuracy: 0.8750\n",
            "Epoch 13/50\n",
            "54/54 [==============================] - 10s 64ms/step - loss: 0.1859 - accuracy: 0.9401 - val_loss: 0.2987 - val_accuracy: 0.8698\n",
            "Epoch 14/50\n",
            "54/54 [==============================] - 10s 63ms/step - loss: 0.1186 - accuracy: 0.9542 - val_loss: 0.1773 - val_accuracy: 0.9479\n",
            "Epoch 15/50\n",
            "54/54 [==============================] - 10s 65ms/step - loss: 0.1103 - accuracy: 0.9554 - val_loss: 0.0886 - val_accuracy: 0.9688\n",
            "Epoch 16/50\n",
            "54/54 [==============================] - 10s 63ms/step - loss: 0.0917 - accuracy: 0.9689 - val_loss: 0.5591 - val_accuracy: 0.8125\n",
            "Epoch 17/50\n",
            "54/54 [==============================] - 10s 62ms/step - loss: 0.1102 - accuracy: 0.9589 - val_loss: 0.1288 - val_accuracy: 0.9375\n",
            "Epoch 18/50\n",
            "54/54 [==============================] - 11s 64ms/step - loss: 0.0870 - accuracy: 0.9695 - val_loss: 0.6540 - val_accuracy: 0.8073\n",
            "Epoch 19/50\n",
            "54/54 [==============================] - 10s 68ms/step - loss: 0.1011 - accuracy: 0.9630 - val_loss: 0.2355 - val_accuracy: 0.9167\n",
            "Epoch 20/50\n",
            "54/54 [==============================] - 9s 63ms/step - loss: 0.0609 - accuracy: 0.9765 - val_loss: 0.1394 - val_accuracy: 0.9427\n",
            "Epoch 21/50\n",
            "54/54 [==============================] - 10s 62ms/step - loss: 0.1186 - accuracy: 0.9589 - val_loss: 0.1301 - val_accuracy: 0.9427\n",
            "Epoch 22/50\n",
            "54/54 [==============================] - 11s 63ms/step - loss: 0.1077 - accuracy: 0.9583 - val_loss: 0.1837 - val_accuracy: 0.9271\n",
            "Epoch 23/50\n",
            "54/54 [==============================] - 9s 65ms/step - loss: 0.0576 - accuracy: 0.9783 - val_loss: 0.0888 - val_accuracy: 0.9688\n",
            "Epoch 24/50\n",
            "54/54 [==============================] - 10s 62ms/step - loss: 0.0486 - accuracy: 0.9830 - val_loss: 0.2777 - val_accuracy: 0.9375\n",
            "Epoch 25/50\n",
            "54/54 [==============================] - 11s 63ms/step - loss: 0.0646 - accuracy: 0.9795 - val_loss: 0.1330 - val_accuracy: 0.9479\n",
            "Epoch 26/50\n",
            "54/54 [==============================] - 10s 66ms/step - loss: 0.0400 - accuracy: 0.9900 - val_loss: 0.5112 - val_accuracy: 0.8490\n",
            "Epoch 27/50\n",
            "54/54 [==============================] - 10s 62ms/step - loss: 0.0541 - accuracy: 0.9812 - val_loss: 0.2623 - val_accuracy: 0.9323\n",
            "Epoch 28/50\n",
            "54/54 [==============================] - 10s 63ms/step - loss: 0.0365 - accuracy: 0.9847 - val_loss: 0.5874 - val_accuracy: 0.9062\n",
            "Epoch 29/50\n",
            "54/54 [==============================] - 11s 62ms/step - loss: 0.0472 - accuracy: 0.9830 - val_loss: 0.1660 - val_accuracy: 0.9375\n",
            "Epoch 30/50\n",
            "54/54 [==============================] - 10s 65ms/step - loss: 0.0423 - accuracy: 0.9865 - val_loss: 0.3237 - val_accuracy: 0.9323\n",
            "Epoch 31/50\n",
            "54/54 [==============================] - 10s 62ms/step - loss: 0.0719 - accuracy: 0.9695 - val_loss: 0.0276 - val_accuracy: 0.9948\n",
            "Epoch 32/50\n",
            "54/54 [==============================] - 11s 63ms/step - loss: 0.0637 - accuracy: 0.9765 - val_loss: 0.1203 - val_accuracy: 0.9583\n",
            "Epoch 33/50\n",
            "54/54 [==============================] - 11s 62ms/step - loss: 0.0502 - accuracy: 0.9800 - val_loss: 0.2421 - val_accuracy: 0.9583\n",
            "Epoch 34/50\n",
            "54/54 [==============================] - 10s 65ms/step - loss: 0.0414 - accuracy: 0.9830 - val_loss: 0.2048 - val_accuracy: 0.9479\n",
            "Epoch 35/50\n",
            "54/54 [==============================] - 10s 64ms/step - loss: 0.0295 - accuracy: 0.9912 - val_loss: 0.2817 - val_accuracy: 0.9427\n",
            "Epoch 36/50\n",
            "54/54 [==============================] - 10s 62ms/step - loss: 0.0274 - accuracy: 0.9883 - val_loss: 0.1298 - val_accuracy: 0.9531\n",
            "Epoch 37/50\n",
            "54/54 [==============================] - 11s 63ms/step - loss: 0.0334 - accuracy: 0.9878 - val_loss: 0.0722 - val_accuracy: 0.9792\n",
            "Epoch 38/50\n",
            "54/54 [==============================] - 10s 66ms/step - loss: 0.0798 - accuracy: 0.9748 - val_loss: 0.0641 - val_accuracy: 0.9792\n",
            "Epoch 39/50\n",
            "54/54 [==============================] - 10s 61ms/step - loss: 0.0491 - accuracy: 0.9824 - val_loss: 0.1004 - val_accuracy: 0.9688\n",
            "Epoch 40/50\n",
            "54/54 [==============================] - 11s 65ms/step - loss: 0.0391 - accuracy: 0.9826 - val_loss: 0.2423 - val_accuracy: 0.9427\n",
            "Epoch 41/50\n",
            "54/54 [==============================] - 10s 63ms/step - loss: 0.0362 - accuracy: 0.9865 - val_loss: 0.0996 - val_accuracy: 0.9740\n",
            "Epoch 42/50\n",
            "54/54 [==============================] - 10s 64ms/step - loss: 0.0440 - accuracy: 0.9853 - val_loss: 0.0494 - val_accuracy: 0.9844\n",
            "Epoch 43/50\n",
            "54/54 [==============================] - 11s 63ms/step - loss: 0.0507 - accuracy: 0.9789 - val_loss: 0.1282 - val_accuracy: 0.9635\n",
            "Epoch 44/50\n",
            "54/54 [==============================] - 11s 64ms/step - loss: 0.0300 - accuracy: 0.9894 - val_loss: 0.1874 - val_accuracy: 0.9635\n",
            "Epoch 45/50\n",
            "54/54 [==============================] - 10s 65ms/step - loss: 0.0200 - accuracy: 0.9935 - val_loss: 0.0966 - val_accuracy: 0.9688\n",
            "Epoch 46/50\n",
            "54/54 [==============================] - 10s 62ms/step - loss: 0.0230 - accuracy: 0.9912 - val_loss: 0.1201 - val_accuracy: 0.9688\n",
            "Epoch 47/50\n",
            "54/54 [==============================] - 10s 61ms/step - loss: 0.0180 - accuracy: 0.9935 - val_loss: 0.6700 - val_accuracy: 0.8906\n",
            "Epoch 48/50\n",
            "54/54 [==============================] - 10s 61ms/step - loss: 0.0348 - accuracy: 0.9894 - val_loss: 0.0478 - val_accuracy: 0.9896\n",
            "Epoch 49/50\n",
            "54/54 [==============================] - 10s 67ms/step - loss: 0.0208 - accuracy: 0.9919 - val_loss: 0.4237 - val_accuracy: 0.9167\n",
            "Epoch 50/50\n",
            "54/54 [==============================] - 9s 62ms/step - loss: 0.0605 - accuracy: 0.9771 - val_loss: 0.1369 - val_accuracy: 0.9531\n"
          ]
        }
      ],
      "source": [
        "history = model.fit(\n",
        "    train_ds,\n",
        "    epochs = EPOCHS,\n",
        "    batch_size = BATCH_SIZE,\n",
        "    verbose=1,\n",
        "    validation_data = val_ds\n",
        ")"
      ]
    },
    {
      "cell_type": "code",
      "execution_count": null,
      "id": "399e7359",
      "metadata": {
        "id": "399e7359"
      },
      "outputs": [],
      "source": [
        "acc = history.history['accuracy']\n",
        "val_acc = history.history['val_accuracy']\n",
        "\n",
        "loss = history.history['loss']\n",
        "val_loss = history.history['val_loss']"
      ]
    },
    {
      "cell_type": "markdown",
      "source": [
        "this will show accuracy improved over time"
      ],
      "metadata": {
        "id": "LNJ8m4GnkFYk"
      },
      "id": "LNJ8m4GnkFYk"
    },
    {
      "cell_type": "code",
      "source": [
        "plt.figure(figsize = (8,8))\n",
        "plt.subplot(1,2,1)\n",
        "plt.plot(range(EPOCHS),acc,label =\"Training accuracy\")\n",
        "plt.plot(range(EPOCHS),val_acc,label = 'validation Accuracy')\n",
        "plt.legend(loc = 'lower right')\n",
        "plt.title(\"training and validation Accuracy\")"
      ],
      "metadata": {
        "colab": {
          "base_uri": "https://localhost:8080/",
          "height": 716
        },
        "id": "ckHXeDwtjYKT",
        "outputId": "d75ab36d-f21d-441f-d523-20b77a45c1ae"
      },
      "id": "ckHXeDwtjYKT",
      "execution_count": null,
      "outputs": [
        {
          "output_type": "execute_result",
          "data": {
            "text/plain": [
              "Text(0.5, 1.0, 'training and validation Accuracy')"
            ]
          },
          "metadata": {},
          "execution_count": 17
        },
        {
          "output_type": "display_data",
          "data": {
            "text/plain": [
              "<Figure size 800x800 with 1 Axes>"
            ],
            "image/png": "[encoded data removed]"
          },
          "metadata": {}
        }
      ]
    },
    {
      "cell_type": "markdown",
      "source": [
        "prediction"
      ],
      "metadata": {
        "id": "-xT1vxqWkQxz"
      },
      "id": "-xT1vxqWkQxz"
    },
    {
      "cell_type": "code",
      "source": [
        "import numpy as np\n",
        "for images_batch, label_batch in test_ds.take(1):\n",
        "\n",
        "    first_image = images_batch[0].numpy().astype('uint8')\n",
        "    first_label = label_batch[0].numpy()\n",
        "\n",
        "    print(\"first image to predict\")\n",
        "    plt.imshow(first_image)\n",
        "    print(\"actual label:\",class_name[first_label])\n",
        "\n",
        "    batch_prediction = model.predict(images_batch)\n",
        "    print(\"predicted label:\",class_name[np.argmax(batch_prediction[0])])\n",
        "\n"
      ],
      "metadata": {
        "colab": {
          "base_uri": "https://localhost:8080/",
          "height": 211
        },
        "id": "5VdFk3j4kQb7",
        "outputId": "292e3914-759b-4f2e-de69-cae7cf7c80c2"
      },
      "id": "5VdFk3j4kQb7",
      "execution_count": null,
      "outputs": [
        {
          "output_type": "error",
          "ename": "NameError",
          "evalue": "name 'test_ds' is not defined",
          "traceback": [
            "\u001b[0;31m---------------------------------------------------------------------------\u001b[0m",
            "\u001b[0;31mNameError\u001b[0m                                 Traceback (most recent call last)",
            "\u001b[0;32m<ipython-input-1-5bc37571535b>\u001b[0m in \u001b[0;36m<cell line: 2>\u001b[0;34m()\u001b[0m\n\u001b[1;32m      1\u001b[0m \u001b[0;32mimport\u001b[0m \u001b[0mnumpy\u001b[0m \u001b[0;32mas\u001b[0m \u001b[0mnp\u001b[0m\u001b[0;34m\u001b[0m\u001b[0;34m\u001b[0m\u001b[0m\n\u001b[0;32m----> 2\u001b[0;31m \u001b[0;32mfor\u001b[0m \u001b[0mimages_batch\u001b[0m\u001b[0;34m,\u001b[0m \u001b[0mlabel_batch\u001b[0m \u001b[0;32min\u001b[0m \u001b[0mtest_ds\u001b[0m\u001b[0;34m.\u001b[0m\u001b[0mtake\u001b[0m\u001b[0;34m(\u001b[0m\u001b[0;36m1\u001b[0m\u001b[0;34m)\u001b[0m\u001b[0;34m:\u001b[0m\u001b[0;34m\u001b[0m\u001b[0;34m\u001b[0m\u001b[0m\n\u001b[0m\u001b[1;32m      3\u001b[0m \u001b[0;34m\u001b[0m\u001b[0m\n\u001b[1;32m      4\u001b[0m     \u001b[0mfirst_image\u001b[0m \u001b[0;34m=\u001b[0m \u001b[0mimages_batch\u001b[0m\u001b[0;34m[\u001b[0m\u001b[0;36m0\u001b[0m\u001b[0;34m]\u001b[0m\u001b[0;34m.\u001b[0m\u001b[0mnumpy\u001b[0m\u001b[0;34m(\u001b[0m\u001b[0;34m)\u001b[0m\u001b[0;34m.\u001b[0m\u001b[0mastype\u001b[0m\u001b[0;34m(\u001b[0m\u001b[0;34m'uint8'\u001b[0m\u001b[0;34m)\u001b[0m\u001b[0;34m\u001b[0m\u001b[0;34m\u001b[0m\u001b[0m\n\u001b[1;32m      5\u001b[0m     \u001b[0mfirst_label\u001b[0m \u001b[0;34m=\u001b[0m \u001b[0mlabel_batch\u001b[0m\u001b[0;34m[\u001b[0m\u001b[0;36m0\u001b[0m\u001b[0;34m]\u001b[0m\u001b[0;34m.\u001b[0m\u001b[0mnumpy\u001b[0m\u001b[0;34m(\u001b[0m\u001b[0;34m)\u001b[0m\u001b[0;34m\u001b[0m\u001b[0;34m\u001b[0m\u001b[0m\n",
            "\u001b[0;31mNameError\u001b[0m: name 'test_ds' is not defined"
          ]
        }
      ]
    },
    {
      "cell_type": "code",
      "source": [
        "model.save(\"model.h5\", include_optimizer=True)"
      ],
      "metadata": {
        "colab": {
          "base_uri": "https://localhost:8080/"
        },
        "id": "_UFujUSb9vJp",
        "outputId": "8ad88e64-6e04-449d-b24d-f9e99ba9dc52"
      },
      "id": "_UFujUSb9vJp",
      "execution_count": null,
      "outputs": [
        {
          "output_type": "stream",
          "name": "stderr",
          "text": [
            "WARNING:tensorflow:Compiled the loaded model, but the compiled metrics have yet to be built. `model.compile_metrics` will be empty until you train or evaluate the model.\n"
          ]
        }
      ]
    },
    {
      "cell_type": "code",
      "source": [
        "from keras.models import load_model\n",
        "\n",
        "# Load the model\n",
        "model = load_model('/content/model.h5')\n",
        "\n",
        "# Compile the model\n",
        "model.compile(optimizer='adam', loss='sparse_categorical_crossentropy', metrics=['accuracy'])\n",
        "\n",
        "# Save the compiled model\n",
        "model.save('/content/drive/My Drive/model_compiled.h5')"
      ],
      "metadata": {
        "colab": {
          "base_uri": "https://localhost:8080/",
          "height": 391
        },
        "id": "xfxJiqky-qor",
        "outputId": "7a68e4a5-aeb0-4d7c-8995-31cc7bae17c5"
      },
      "id": "xfxJiqky-qor",
      "execution_count": null,
      "outputs": [
        {
          "output_type": "error",
          "ename": "ValueError",
          "evalue": "Saved configuration not understood. Configuration should be a dictionary, string, tuple or list. Received: config=0.9202303290367126.",
          "traceback": [
            "\u001b[0;31m---------------------------------------------------------------------------\u001b[0m",
            "\u001b[0;31mValueError\u001b[0m                                Traceback (most recent call last)",
            "\u001b[0;32m<ipython-input-34-fdedf8d3524d>\u001b[0m in \u001b[0;36m<cell line: 4>\u001b[0;34m()\u001b[0m\n\u001b[1;32m      2\u001b[0m \u001b[0;34m\u001b[0m\u001b[0m\n\u001b[1;32m      3\u001b[0m \u001b[0;31m# Load the model\u001b[0m\u001b[0;34m\u001b[0m\u001b[0;34m\u001b[0m\u001b[0m\n\u001b[0;32m----> 4\u001b[0;31m \u001b[0mmodel\u001b[0m \u001b[0;34m=\u001b[0m \u001b[0mload_model\u001b[0m\u001b[0;34m(\u001b[0m\u001b[0;34m'/content/model.h5'\u001b[0m\u001b[0;34m)\u001b[0m\u001b[0;34m\u001b[0m\u001b[0;34m\u001b[0m\u001b[0m\n\u001b[0m\u001b[1;32m      5\u001b[0m \u001b[0;34m\u001b[0m\u001b[0m\n\u001b[1;32m      6\u001b[0m \u001b[0;31m# Compile the model\u001b[0m\u001b[0;34m\u001b[0m\u001b[0;34m\u001b[0m\u001b[0m\n",
            "\u001b[0;32m/usr/local/lib/python3.10/dist-packages/keras/src/saving/saving_api.py\u001b[0m in \u001b[0;36mload_model\u001b[0;34m(filepath, custom_objects, compile, safe_mode, **kwargs)\u001b[0m\n\u001b[1;32m    260\u001b[0m \u001b[0;34m\u001b[0m\u001b[0m\n\u001b[1;32m    261\u001b[0m     \u001b[0;31m# Legacy case.\u001b[0m\u001b[0;34m\u001b[0m\u001b[0;34m\u001b[0m\u001b[0m\n\u001b[0;32m--> 262\u001b[0;31m     return legacy_sm_saving_lib.load_model(\n\u001b[0m\u001b[1;32m    263\u001b[0m         \u001b[0mfilepath\u001b[0m\u001b[0;34m,\u001b[0m \u001b[0mcustom_objects\u001b[0m\u001b[0;34m=\u001b[0m\u001b[0mcustom_objects\u001b[0m\u001b[0;34m,\u001b[0m \u001b[0mcompile\u001b[0m\u001b[0;34m=\u001b[0m\u001b[0mcompile\u001b[0m\u001b[0;34m,\u001b[0m \u001b[0;34m**\u001b[0m\u001b[0mkwargs\u001b[0m\u001b[0;34m\u001b[0m\u001b[0;34m\u001b[0m\u001b[0m\n\u001b[1;32m    264\u001b[0m     )\n",
            "\u001b[0;32m/usr/local/lib/python3.10/dist-packages/keras/src/utils/traceback_utils.py\u001b[0m in \u001b[0;36merror_handler\u001b[0;34m(*args, **kwargs)\u001b[0m\n\u001b[1;32m     68\u001b[0m             \u001b[0;31m# To get the full stack trace, call:\u001b[0m\u001b[0;34m\u001b[0m\u001b[0;34m\u001b[0m\u001b[0m\n\u001b[1;32m     69\u001b[0m             \u001b[0;31m# `tf.debugging.disable_traceback_filtering()`\u001b[0m\u001b[0;34m\u001b[0m\u001b[0;34m\u001b[0m\u001b[0m\n\u001b[0;32m---> 70\u001b[0;31m             \u001b[0;32mraise\u001b[0m \u001b[0me\u001b[0m\u001b[0;34m.\u001b[0m\u001b[0mwith_traceback\u001b[0m\u001b[0;34m(\u001b[0m\u001b[0mfiltered_tb\u001b[0m\u001b[0;34m)\u001b[0m \u001b[0;32mfrom\u001b[0m \u001b[0;32mNone\u001b[0m\u001b[0;34m\u001b[0m\u001b[0;34m\u001b[0m\u001b[0m\n\u001b[0m\u001b[1;32m     71\u001b[0m         \u001b[0;32mfinally\u001b[0m\u001b[0;34m:\u001b[0m\u001b[0;34m\u001b[0m\u001b[0;34m\u001b[0m\u001b[0m\n\u001b[1;32m     72\u001b[0m             \u001b[0;32mdel\u001b[0m \u001b[0mfiltered_tb\u001b[0m\u001b[0;34m\u001b[0m\u001b[0;34m\u001b[0m\u001b[0m\n",
            "\u001b[0;32m/usr/local/lib/python3.10/dist-packages/keras/src/saving/legacy/saving_utils.py\u001b[0m in \u001b[0;36m_deserialize_nested_config\u001b[0;34m(deserialize_fn, config)\u001b[0m\n\u001b[1;32m    295\u001b[0m         ]\n\u001b[1;32m    296\u001b[0m \u001b[0;34m\u001b[0m\u001b[0m\n\u001b[0;32m--> 297\u001b[0;31m     raise ValueError(\n\u001b[0m\u001b[1;32m    298\u001b[0m         \u001b[0;34m\"Saved configuration not understood. Configuration should be a \"\u001b[0m\u001b[0;34m\u001b[0m\u001b[0;34m\u001b[0m\u001b[0m\n\u001b[1;32m    299\u001b[0m         \u001b[0;34mf\"dictionary, string, tuple or list. Received: config={config}.\"\u001b[0m\u001b[0;34m\u001b[0m\u001b[0;34m\u001b[0m\u001b[0m\n",
            "\u001b[0;31mValueError\u001b[0m: Saved configuration not understood. Configuration should be a dictionary, string, tuple or list. Received: config=0.9202303290367126."
          ]
        }
      ]
    },
    {
      "cell_type": "code",
      "source": [
        "from keras.models import HDF5Matrix\n",
        "\n",
        "# Load the model using HDF5Matrix\n",
        "model = HDF5Matrix('model.h5')\n",
        "\n",
        "# Compile the model\n",
        "model.compile(optimizer='adam', loss='sparse_categorical_crossentropy', metrics=['accuracy'])\n",
        "\n",
        "# Save the compiled model\n",
        "model.save('/content/drive/My Drive/model_compiled.h5')"
      ],
      "metadata": {
        "colab": {
          "base_uri": "https://localhost:8080/",
          "height": 401
        },
        "id": "mZCo_oEQ_YVP",
        "outputId": "87b194a7-7bd6-49b9-a5c6-4bcdfafff6f6"
      },
      "id": "mZCo_oEQ_YVP",
      "execution_count": null,
      "outputs": [
        {
          "output_type": "error",
          "ename": "ImportError",
          "evalue": "cannot import name 'HDF5Matrix' from 'keras.models' (/usr/local/lib/python3.10/dist-packages/keras/models/__init__.py)",
          "traceback": [
            "\u001b[0;31m---------------------------------------------------------------------------\u001b[0m",
            "\u001b[0;31mImportError\u001b[0m                               Traceback (most recent call last)",
            "\u001b[0;32m<ipython-input-35-df02efbd668b>\u001b[0m in \u001b[0;36m<cell line: 1>\u001b[0;34m()\u001b[0m\n\u001b[0;32m----> 1\u001b[0;31m \u001b[0;32mfrom\u001b[0m \u001b[0mkeras\u001b[0m\u001b[0;34m.\u001b[0m\u001b[0mmodels\u001b[0m \u001b[0;32mimport\u001b[0m \u001b[0mHDF5Matrix\u001b[0m\u001b[0;34m\u001b[0m\u001b[0;34m\u001b[0m\u001b[0m\n\u001b[0m\u001b[1;32m      2\u001b[0m \u001b[0;34m\u001b[0m\u001b[0m\n\u001b[1;32m      3\u001b[0m \u001b[0;31m# Load the model using HDF5Matrix\u001b[0m\u001b[0;34m\u001b[0m\u001b[0;34m\u001b[0m\u001b[0m\n\u001b[1;32m      4\u001b[0m \u001b[0mmodel\u001b[0m \u001b[0;34m=\u001b[0m \u001b[0mHDF5Matrix\u001b[0m\u001b[0;34m(\u001b[0m\u001b[0;34m'model.h5'\u001b[0m\u001b[0;34m)\u001b[0m\u001b[0;34m\u001b[0m\u001b[0;34m\u001b[0m\u001b[0m\n\u001b[1;32m      5\u001b[0m \u001b[0;34m\u001b[0m\u001b[0m\n",
            "\u001b[0;31mImportError\u001b[0m: cannot import name 'HDF5Matrix' from 'keras.models' (/usr/local/lib/python3.10/dist-packages/keras/models/__init__.py)",
            "",
            "\u001b[0;31m---------------------------------------------------------------------------\u001b[0;32m\nNOTE: If your import is failing due to a missing package, you can\nmanually install dependencies using either !pip or !apt.\n\nTo view examples of installing some common dependencies, click the\n\"Open Examples\" button below.\n\u001b[0;31m---------------------------------------------------------------------------\u001b[0m\n"
          ],
          "errorDetails": {
            "actions": [
              {
                "action": "open_url",
                "actionText": "Open Examples",
                "url": "/notebooks/snippets/importing_libraries.ipynb"
              }
            ]
          }
        }
      ]
    }
  ],
  "metadata": {
    "kernelspec": {
      "display_name": "Python 3",
      "name": "python3"
    },
    "language_info": {
      "codemirror_mode": {
        "name": "ipython",
        "version": 3
      },
      "file_extension": ".py",
      "mimetype": "text/x-python",
      "name": "python",
      "nbconvert_exporter": "python",
      "pygments_lexer": "ipython3",
      "version": "3.11.5"
    },
    "colab": {
      "provenance": [],
      "gpuType": "T4",
      "include_colab_link": true
    },
    "accelerator": "GPU"
  },
  "nbformat": 4,
  "nbformat_minor": 5
}